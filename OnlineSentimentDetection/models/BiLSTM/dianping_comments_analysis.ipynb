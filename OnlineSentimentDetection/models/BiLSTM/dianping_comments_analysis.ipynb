{
 "cells": [
  {
   "cell_type": "code",
   "execution_count": 1,
   "metadata": {},
   "outputs": [],
   "source": [
    "import pandas as pd"
   ]
  },
  {
   "cell_type": "code",
   "execution_count": 2,
   "metadata": {},
   "outputs": [
    {
     "name": "stdout",
     "output_type": "stream",
     "text": [
      "用户 数目：542706\n",
      "评分/评论 数目（总计）：4422473\n",
      "\n",
      "总体 评分 数目（[1,5]）：3293878\n",
      "环境 评分 数目（[1,5]）：4076220\n",
      "口味 评分 数目（[1,5]）：4093819\n",
      "服务 评分 数目（[1,5]）：4076220\n",
      "评论 数目：4107409\n"
     ]
    }
   ],
   "source": [
    "pd_ratings = pd.read_csv('yf_dianping/ratings.csv')\n",
    "\n",
    "print('用户 数目：%d' % pd_ratings.userId.unique().shape[0])\n",
    "print('评分/评论 数目（总计）：%d\\n' % pd_ratings.shape[0])\n",
    "\n",
    "print('总体 评分 数目（[1,5]）：%d' % pd_ratings[(pd_ratings.rating>=1) & (pd_ratings.rating<=5)].shape[0])\n",
    "print('环境 评分 数目（[1,5]）：%d' % pd_ratings[(pd_ratings.rating_env>=1) & (pd_ratings.rating_env<=5)].shape[0])\n",
    "print('口味 评分 数目（[1,5]）：%d' % pd_ratings[(pd_ratings.rating_flavor>=1) & (pd_ratings.rating_flavor<=5)].shape[0])\n",
    "print('服务 评分 数目（[1,5]）：%d' % pd_ratings[(pd_ratings.rating_service>=1) & (pd_ratings.rating_service<=5)].shape[0])\n",
    "print('评论 数目：%d' % pd_ratings[~pd_ratings.comment.isna()].shape[0])"
   ]
  },
  {
   "cell_type": "markdown",
   "metadata": {},
   "source": [
    "### 字段说明\n",
    "\n",
    "| 字段 | 说明 |\n",
    "| ---- | ---- |\n",
    "| id | 每条评论的数字标记(唯一) |\n",
    "| userId | 用户 id (从 0 开始，连续编号) |\n",
    "| restId | 即 restaurants.csv 中的 restId |\n",
    "| rating | 总体评分，[0,5] 之间的整数 |\n",
    "| rating_env | 环境评分，[1,5] 之间的整数 |\n",
    "| rating_flavor | 口味评分，[1,5] 之间的整数 |\n",
    "| rating_service | 服务评分，[1,5] 之间的整数 |\n",
    "| timestamp | 评分时间戳 |\n",
    "| comment |  评论内容 |"
   ]
  },
  {
   "cell_type": "code",
   "execution_count": 4,
   "metadata": {},
   "outputs": [
    {
     "data": {
      "text/html": [
       "<div>\n",
       "<style scoped>\n",
       "    .dataframe tbody tr th:only-of-type {\n",
       "        vertical-align: middle;\n",
       "    }\n",
       "\n",
       "    .dataframe tbody tr th {\n",
       "        vertical-align: top;\n",
       "    }\n",
       "\n",
       "    .dataframe thead th {\n",
       "        text-align: right;\n",
       "    }\n",
       "</style>\n",
       "<table border=\"1\" class=\"dataframe\">\n",
       "  <thead>\n",
       "    <tr style=\"text-align: right;\">\n",
       "      <th></th>\n",
       "      <th>userId</th>\n",
       "      <th>restId</th>\n",
       "      <th>rating</th>\n",
       "      <th>rating_env</th>\n",
       "      <th>rating_flavor</th>\n",
       "      <th>rating_service</th>\n",
       "      <th>timestamp</th>\n",
       "      <th>comment</th>\n",
       "    </tr>\n",
       "  </thead>\n",
       "  <tbody>\n",
       "    <tr>\n",
       "      <th>1061692</th>\n",
       "      <td>73742</td>\n",
       "      <td>59718</td>\n",
       "      <td>4.0</td>\n",
       "      <td>3.0</td>\n",
       "      <td>4.0</td>\n",
       "      <td>3.0</td>\n",
       "      <td>1289992320000</td>\n",
       "      <td>地理位置挺好的，里面东西的种类也很丰富\\n环境有点杂乱，但是有几次进去逛逛里面的花还是摆的蛮...</td>\n",
       "    </tr>\n",
       "    <tr>\n",
       "      <th>3229427</th>\n",
       "      <td>116855</td>\n",
       "      <td>179340</td>\n",
       "      <td>4.0</td>\n",
       "      <td>3.0</td>\n",
       "      <td>3.0</td>\n",
       "      <td>3.0</td>\n",
       "      <td>1321192200000</td>\n",
       "      <td>就在我们住的第一家旅馆对面，走个过街天桥就是，很方便。我们是下午3点到的，仍然营业，大厅里包...</td>\n",
       "    </tr>\n",
       "    <tr>\n",
       "      <th>4208029</th>\n",
       "      <td>82860</td>\n",
       "      <td>230539</td>\n",
       "      <td>4.0</td>\n",
       "      <td>3.0</td>\n",
       "      <td>4.0</td>\n",
       "      <td>3.0</td>\n",
       "      <td>1295415300000</td>\n",
       "      <td>2010年最后一天，还是得加班...\\n加完班，风大又饥肠辘辘，于是就近选了这家最近的又让人...</td>\n",
       "    </tr>\n",
       "    <tr>\n",
       "      <th>2933253</th>\n",
       "      <td>401514</td>\n",
       "      <td>158432</td>\n",
       "      <td>NaN</td>\n",
       "      <td>2.0</td>\n",
       "      <td>2.0</td>\n",
       "      <td>2.0</td>\n",
       "      <td>1211271660000</td>\n",
       "      <td>不久以前刚开的一家好利来分店~~~\\n 本身不太去好利来的，但是因为周边再没有第二家还可以的...</td>\n",
       "    </tr>\n",
       "    <tr>\n",
       "      <th>3774917</th>\n",
       "      <td>29516</td>\n",
       "      <td>208349</td>\n",
       "      <td>3.0</td>\n",
       "      <td>2.0</td>\n",
       "      <td>3.0</td>\n",
       "      <td>2.0</td>\n",
       "      <td>1318492140000</td>\n",
       "      <td>我反正是觉得好吃的，怪味面有点酸甜味，里面好像是有海味面的绍子，还有像肘子一样的肥肉坨坨，我...</td>\n",
       "    </tr>\n",
       "    <tr>\n",
       "      <th>2233606</th>\n",
       "      <td>8110</td>\n",
       "      <td>123284</td>\n",
       "      <td>4.0</td>\n",
       "      <td>4.0</td>\n",
       "      <td>4.0</td>\n",
       "      <td>4.0</td>\n",
       "      <td>1316747700000</td>\n",
       "      <td>人均不太准，因为每次吃饭我都不知道花了多少钱~\\n喜欢吃他家的鸡丁茄子煲~\\n菜品种类挺丰富...</td>\n",
       "    </tr>\n",
       "    <tr>\n",
       "      <th>856460</th>\n",
       "      <td>27369</td>\n",
       "      <td>46998</td>\n",
       "      <td>3.0</td>\n",
       "      <td>NaN</td>\n",
       "      <td>NaN</td>\n",
       "      <td>NaN</td>\n",
       "      <td>1325156580000</td>\n",
       "      <td>NaN</td>\n",
       "    </tr>\n",
       "    <tr>\n",
       "      <th>3921830</th>\n",
       "      <td>95958</td>\n",
       "      <td>214222</td>\n",
       "      <td>NaN</td>\n",
       "      <td>3.0</td>\n",
       "      <td>3.0</td>\n",
       "      <td>3.0</td>\n",
       "      <td>1228992420000</td>\n",
       "      <td>猪肚包鸡真的不是浪得虚名，跟家人专门去吃，都是值得的，汤好喝，但是分量有点少，而且配料价格有...</td>\n",
       "    </tr>\n",
       "    <tr>\n",
       "      <th>191859</th>\n",
       "      <td>1959</td>\n",
       "      <td>6730</td>\n",
       "      <td>4.0</td>\n",
       "      <td>4.0</td>\n",
       "      <td>3.0</td>\n",
       "      <td>4.0</td>\n",
       "      <td>1308806640000</td>\n",
       "      <td>我比较喜欢银泰的西湖店，因为店面大，而人流量不多，特别是血拼的时候，不用排很长的队，唯一美中...</td>\n",
       "    </tr>\n",
       "    <tr>\n",
       "      <th>3162271</th>\n",
       "      <td>13093</td>\n",
       "      <td>176340</td>\n",
       "      <td>5.0</td>\n",
       "      <td>4.0</td>\n",
       "      <td>3.0</td>\n",
       "      <td>4.0</td>\n",
       "      <td>1293070320000</td>\n",
       "      <td>每周一、三、五、六都有乐队活动\\n周三的女士之夜女士免费的，周五100畅饮，都还蛮划算的~\\...</td>\n",
       "    </tr>\n",
       "  </tbody>\n",
       "</table>\n",
       "</div>"
      ],
      "text/plain": [
       "         userId  restId  rating  rating_env  rating_flavor  rating_service  \\\n",
       "1061692   73742   59718     4.0         3.0            4.0             3.0   \n",
       "3229427  116855  179340     4.0         3.0            3.0             3.0   \n",
       "4208029   82860  230539     4.0         3.0            4.0             3.0   \n",
       "2933253  401514  158432     NaN         2.0            2.0             2.0   \n",
       "3774917   29516  208349     3.0         2.0            3.0             2.0   \n",
       "2233606    8110  123284     4.0         4.0            4.0             4.0   \n",
       "856460    27369   46998     3.0         NaN            NaN             NaN   \n",
       "3921830   95958  214222     NaN         3.0            3.0             3.0   \n",
       "191859     1959    6730     4.0         4.0            3.0             4.0   \n",
       "3162271   13093  176340     5.0         4.0            3.0             4.0   \n",
       "\n",
       "             timestamp                                            comment  \n",
       "1061692  1289992320000  地理位置挺好的，里面东西的种类也很丰富\\n环境有点杂乱，但是有几次进去逛逛里面的花还是摆的蛮...  \n",
       "3229427  1321192200000  就在我们住的第一家旅馆对面，走个过街天桥就是，很方便。我们是下午3点到的，仍然营业，大厅里包...  \n",
       "4208029  1295415300000  2010年最后一天，还是得加班...\\n加完班，风大又饥肠辘辘，于是就近选了这家最近的又让人...  \n",
       "2933253  1211271660000  不久以前刚开的一家好利来分店~~~\\n 本身不太去好利来的，但是因为周边再没有第二家还可以的...  \n",
       "3774917  1318492140000  我反正是觉得好吃的，怪味面有点酸甜味，里面好像是有海味面的绍子，还有像肘子一样的肥肉坨坨，我...  \n",
       "2233606  1316747700000  人均不太准，因为每次吃饭我都不知道花了多少钱~\\n喜欢吃他家的鸡丁茄子煲~\\n菜品种类挺丰富...  \n",
       "856460   1325156580000                                                NaN  \n",
       "3921830  1228992420000  猪肚包鸡真的不是浪得虚名，跟家人专门去吃，都是值得的，汤好喝，但是分量有点少，而且配料价格有...  \n",
       "191859   1308806640000  我比较喜欢银泰的西湖店，因为店面大，而人流量不多，特别是血拼的时候，不用排很长的队，唯一美中...  \n",
       "3162271  1293070320000  每周一、三、五、六都有乐队活动\\n周三的女士之夜女士免费的，周五100畅饮，都还蛮划算的~\\...  "
      ]
     },
     "execution_count": 4,
     "metadata": {},
     "output_type": "execute_result"
    }
   ],
   "source": [
    "pd_ratings.sample(10)"
   ]
  },
  {
   "cell_type": "markdown",
   "metadata": {},
   "source": [
    "### 剔除NaN所在的行"
   ]
  },
  {
   "cell_type": "code",
   "execution_count": 7,
   "metadata": {},
   "outputs": [
    {
     "data": {
      "text/html": [
       "<div>\n",
       "<style scoped>\n",
       "    .dataframe tbody tr th:only-of-type {\n",
       "        vertical-align: middle;\n",
       "    }\n",
       "\n",
       "    .dataframe tbody tr th {\n",
       "        vertical-align: top;\n",
       "    }\n",
       "\n",
       "    .dataframe thead th {\n",
       "        text-align: right;\n",
       "    }\n",
       "</style>\n",
       "<table border=\"1\" class=\"dataframe\">\n",
       "  <thead>\n",
       "    <tr style=\"text-align: right;\">\n",
       "      <th></th>\n",
       "      <th>userId</th>\n",
       "      <th>restId</th>\n",
       "      <th>rating</th>\n",
       "      <th>rating_env</th>\n",
       "      <th>rating_flavor</th>\n",
       "      <th>rating_service</th>\n",
       "      <th>timestamp</th>\n",
       "      <th>comment</th>\n",
       "    </tr>\n",
       "  </thead>\n",
       "  <tbody>\n",
       "    <tr>\n",
       "      <th>3331206</th>\n",
       "      <td>17431</td>\n",
       "      <td>183719</td>\n",
       "      <td>4.0</td>\n",
       "      <td>4.0</td>\n",
       "      <td>4.0</td>\n",
       "      <td>4.0</td>\n",
       "      <td>1273153380000</td>\n",
       "      <td>屈臣氏的化妆品种类很多\\n我用过的有洗面奶，喷雾和面膜 ***素 就给你说说我的感受吧\\n屈...</td>\n",
       "    </tr>\n",
       "    <tr>\n",
       "      <th>1164857</th>\n",
       "      <td>145801</td>\n",
       "      <td>62740</td>\n",
       "      <td>4.0</td>\n",
       "      <td>2.0</td>\n",
       "      <td>2.0</td>\n",
       "      <td>2.0</td>\n",
       "      <td>1291726080000</td>\n",
       "      <td>老鸭粉丝汤全上海好像有很多，叫游子的也不少，分不清哪家正宗，哪家山寨。老鸭粉丝汤里面有鸭肫，...</td>\n",
       "    </tr>\n",
       "    <tr>\n",
       "      <th>4382863</th>\n",
       "      <td>447118</td>\n",
       "      <td>241887</td>\n",
       "      <td>5.0</td>\n",
       "      <td>3.0</td>\n",
       "      <td>4.0</td>\n",
       "      <td>3.0</td>\n",
       "      <td>1273618980000</td>\n",
       "      <td>去了就是因为想吃粥了，毕竟有的粥在家是做不出那个味的，而且弄起来也很麻烦。点了皮蛋瘦肉粥，要...</td>\n",
       "    </tr>\n",
       "    <tr>\n",
       "      <th>4402027</th>\n",
       "      <td>335423</td>\n",
       "      <td>242539</td>\n",
       "      <td>2.0</td>\n",
       "      <td>2.0</td>\n",
       "      <td>1.0</td>\n",
       "      <td>2.0</td>\n",
       "      <td>1267703460000</td>\n",
       "      <td>很早就看到大眾上面點評的這家店。特意跑過去嘗試了下 。和BF點了一甜一鹹2碗豆漿。 額。。。...</td>\n",
       "    </tr>\n",
       "    <tr>\n",
       "      <th>2861491</th>\n",
       "      <td>10138</td>\n",
       "      <td>155193</td>\n",
       "      <td>4.0</td>\n",
       "      <td>3.0</td>\n",
       "      <td>3.0</td>\n",
       "      <td>2.0</td>\n",
       "      <td>1297393800000</td>\n",
       "      <td>也是到了中午就生意爆好的地方。本身位子就不多。\\n一般要等15-20分钟上菜。\\n不定期会有...</td>\n",
       "    </tr>\n",
       "    <tr>\n",
       "      <th>1402427</th>\n",
       "      <td>71844</td>\n",
       "      <td>76587</td>\n",
       "      <td>3.0</td>\n",
       "      <td>2.0</td>\n",
       "      <td>2.0</td>\n",
       "      <td>2.0</td>\n",
       "      <td>1273214880000</td>\n",
       "      <td>装修很一般，菜有点辣但是难以流下深刻的印象。虽说号称湖南菜，但感觉还是像赣菜。咸得厉害……太...</td>\n",
       "    </tr>\n",
       "    <tr>\n",
       "      <th>841739</th>\n",
       "      <td>259972</td>\n",
       "      <td>45486</td>\n",
       "      <td>1.0</td>\n",
       "      <td>1.0</td>\n",
       "      <td>1.0</td>\n",
       "      <td>1.0</td>\n",
       "      <td>1276148940000</td>\n",
       "      <td>非常难吃，爆肚，肚仁。。上来有一阵非常臭的味道跟服务员说，得来的问答是，“你别闻它就点麻将吃...</td>\n",
       "    </tr>\n",
       "    <tr>\n",
       "      <th>4202791</th>\n",
       "      <td>64550</td>\n",
       "      <td>230146</td>\n",
       "      <td>3.0</td>\n",
       "      <td>2.0</td>\n",
       "      <td>2.0</td>\n",
       "      <td>2.0</td>\n",
       "      <td>1279269180000</td>\n",
       "      <td>新店开业菜品打五折~~人那叫一个多~~本来新商场就有味道，加上这家店在地下，通风不太好，弄的...</td>\n",
       "    </tr>\n",
       "    <tr>\n",
       "      <th>43155</th>\n",
       "      <td>32439</td>\n",
       "      <td>1075</td>\n",
       "      <td>5.0</td>\n",
       "      <td>2.0</td>\n",
       "      <td>4.0</td>\n",
       "      <td>4.0</td>\n",
       "      <td>1278183060000</td>\n",
       "      <td>好久没遇上愿意再次光顾的餐厅了呃~\\n也好久没受到过全程微笑的服务了呃~\\n更好久没有吃到好...</td>\n",
       "    </tr>\n",
       "    <tr>\n",
       "      <th>1918467</th>\n",
       "      <td>188311</td>\n",
       "      <td>103396</td>\n",
       "      <td>3.0</td>\n",
       "      <td>3.0</td>\n",
       "      <td>3.0</td>\n",
       "      <td>2.0</td>\n",
       "      <td>1324742580000</td>\n",
       "      <td>看点评上很多人都说不错就来试试 觉得很一般 很多人推荐的皮蛋瘦肉粥真的很不好 料很少 桂圆红...</td>\n",
       "    </tr>\n",
       "  </tbody>\n",
       "</table>\n",
       "</div>"
      ],
      "text/plain": [
       "         userId  restId  rating  rating_env  rating_flavor  rating_service  \\\n",
       "3331206   17431  183719     4.0         4.0            4.0             4.0   \n",
       "1164857  145801   62740     4.0         2.0            2.0             2.0   \n",
       "4382863  447118  241887     5.0         3.0            4.0             3.0   \n",
       "4402027  335423  242539     2.0         2.0            1.0             2.0   \n",
       "2861491   10138  155193     4.0         3.0            3.0             2.0   \n",
       "1402427   71844   76587     3.0         2.0            2.0             2.0   \n",
       "841739   259972   45486     1.0         1.0            1.0             1.0   \n",
       "4202791   64550  230146     3.0         2.0            2.0             2.0   \n",
       "43155     32439    1075     5.0         2.0            4.0             4.0   \n",
       "1918467  188311  103396     3.0         3.0            3.0             2.0   \n",
       "\n",
       "             timestamp                                            comment  \n",
       "3331206  1273153380000  屈臣氏的化妆品种类很多\\n我用过的有洗面奶，喷雾和面膜 ***素 就给你说说我的感受吧\\n屈...  \n",
       "1164857  1291726080000  老鸭粉丝汤全上海好像有很多，叫游子的也不少，分不清哪家正宗，哪家山寨。老鸭粉丝汤里面有鸭肫，...  \n",
       "4382863  1273618980000  去了就是因为想吃粥了，毕竟有的粥在家是做不出那个味的，而且弄起来也很麻烦。点了皮蛋瘦肉粥，要...  \n",
       "4402027  1267703460000  很早就看到大眾上面點評的這家店。特意跑過去嘗試了下 。和BF點了一甜一鹹2碗豆漿。 額。。。...  \n",
       "2861491  1297393800000  也是到了中午就生意爆好的地方。本身位子就不多。\\n一般要等15-20分钟上菜。\\n不定期会有...  \n",
       "1402427  1273214880000  装修很一般，菜有点辣但是难以流下深刻的印象。虽说号称湖南菜，但感觉还是像赣菜。咸得厉害……太...  \n",
       "841739   1276148940000  非常难吃，爆肚，肚仁。。上来有一阵非常臭的味道跟服务员说，得来的问答是，“你别闻它就点麻将吃...  \n",
       "4202791  1279269180000  新店开业菜品打五折~~人那叫一个多~~本来新商场就有味道，加上这家店在地下，通风不太好，弄的...  \n",
       "43155    1278183060000  好久没遇上愿意再次光顾的餐厅了呃~\\n也好久没受到过全程微笑的服务了呃~\\n更好久没有吃到好...  \n",
       "1918467  1324742580000  看点评上很多人都说不错就来试试 觉得很一般 很多人推荐的皮蛋瘦肉粥真的很不好 料很少 桂圆红...  "
      ]
     },
     "execution_count": 7,
     "metadata": {},
     "output_type": "execute_result"
    }
   ],
   "source": [
    "new_ratings = pd_ratings.dropna(axis=0, how='any')\n",
    "new_ratings.sample(10)"
   ]
  },
  {
   "cell_type": "code",
   "execution_count": 11,
   "metadata": {},
   "outputs": [
    {
     "data": {
      "text/plain": [
       "2683104"
      ]
     },
     "execution_count": 11,
     "metadata": {},
     "output_type": "execute_result"
    }
   ],
   "source": [
    "len(new_ratings)"
   ]
  },
  {
   "cell_type": "code",
   "execution_count": 8,
   "metadata": {},
   "outputs": [
    {
     "data": {
      "text/plain": [
       "Index(['userId', 'restId', 'rating', 'rating_env', 'rating_flavor',\n",
       "       'rating_service', 'timestamp', 'comment'],\n",
       "      dtype='object')"
      ]
     },
     "execution_count": 8,
     "metadata": {},
     "output_type": "execute_result"
    }
   ],
   "source": [
    "new_ratings.columns"
   ]
  },
  {
   "cell_type": "code",
   "execution_count": 14,
   "metadata": {},
   "outputs": [
    {
     "data": {
      "text/plain": [
       "userId              int64\n",
       "restId              int64\n",
       "rating            float64\n",
       "rating_env        float64\n",
       "rating_flavor     float64\n",
       "rating_service    float64\n",
       "timestamp           int64\n",
       "comment            object\n",
       "label             float64\n",
       "dtype: object"
      ]
     },
     "execution_count": 14,
     "metadata": {},
     "output_type": "execute_result"
    }
   ],
   "source": [
    "new_ratings.dtypes"
   ]
  },
  {
   "cell_type": "code",
   "execution_count": 15,
   "metadata": {},
   "outputs": [
    {
     "name": "stderr",
     "output_type": "stream",
     "text": [
      "E:\\Anaconda\\details\\lib\\site-packages\\ipykernel_launcher.py:1: SettingWithCopyWarning: \n",
      "A value is trying to be set on a copy of a slice from a DataFrame\n",
      "\n",
      "See the caveats in the documentation: http://pandas.pydata.org/pandas-docs/stable/indexing.html#indexing-view-versus-copy\n",
      "  \"\"\"Entry point for launching an IPython kernel.\n",
      "E:\\Anaconda\\details\\lib\\site-packages\\pandas\\core\\generic.py:7626: SettingWithCopyWarning: \n",
      "A value is trying to be set on a copy of a slice from a DataFrame\n",
      "\n",
      "See the caveats in the documentation: http://pandas.pydata.org/pandas-docs/stable/indexing.html#indexing-view-versus-copy\n",
      "  self._update_inplace(new_data)\n",
      "E:\\Anaconda\\details\\lib\\site-packages\\IPython\\core\\interactiveshell.py:3267: SettingWithCopyWarning: \n",
      "A value is trying to be set on a copy of a slice from a DataFrame\n",
      "\n",
      "See the caveats in the documentation: http://pandas.pydata.org/pandas-docs/stable/indexing.html#indexing-view-versus-copy\n",
      "  exec(code_obj, self.user_global_ns, self.user_ns)\n",
      "E:\\Anaconda\\details\\lib\\site-packages\\ipykernel_launcher.py:2: SettingWithCopyWarning: \n",
      "A value is trying to be set on a copy of a slice from a DataFrame\n",
      "\n",
      "See the caveats in the documentation: http://pandas.pydata.org/pandas-docs/stable/indexing.html#indexing-view-versus-copy\n",
      "  \n"
     ]
    }
   ],
   "source": [
    "new_ratings[\"label\"][new_ratings[\"rating\"] >= 3.0] = 1.0\n",
    "new_ratings[\"label\"][new_ratings[\"rating\"] < 3.0] = 0.0"
   ]
  },
  {
   "cell_type": "code",
   "execution_count": 18,
   "metadata": {},
   "outputs": [
    {
     "data": {
      "text/html": [
       "<div>\n",
       "<style scoped>\n",
       "    .dataframe tbody tr th:only-of-type {\n",
       "        vertical-align: middle;\n",
       "    }\n",
       "\n",
       "    .dataframe tbody tr th {\n",
       "        vertical-align: top;\n",
       "    }\n",
       "\n",
       "    .dataframe thead th {\n",
       "        text-align: right;\n",
       "    }\n",
       "</style>\n",
       "<table border=\"1\" class=\"dataframe\">\n",
       "  <thead>\n",
       "    <tr style=\"text-align: right;\">\n",
       "      <th></th>\n",
       "      <th>userId</th>\n",
       "      <th>restId</th>\n",
       "      <th>rating</th>\n",
       "      <th>rating_env</th>\n",
       "      <th>rating_flavor</th>\n",
       "      <th>rating_service</th>\n",
       "      <th>timestamp</th>\n",
       "      <th>comment</th>\n",
       "      <th>label</th>\n",
       "    </tr>\n",
       "  </thead>\n",
       "  <tbody>\n",
       "    <tr>\n",
       "      <th>3466290</th>\n",
       "      <td>495271</td>\n",
       "      <td>188351</td>\n",
       "      <td>3.0</td>\n",
       "      <td>2.0</td>\n",
       "      <td>2.0</td>\n",
       "      <td>2.0</td>\n",
       "      <td>1315902360000</td>\n",
       "      <td>有次同学聚会去了，还可以吧，就是由于人多了，不点饭的话实在是不能当晚饭来吃，不过那个五花肉确...</td>\n",
       "      <td>1.0</td>\n",
       "    </tr>\n",
       "    <tr>\n",
       "      <th>744948</th>\n",
       "      <td>17326</td>\n",
       "      <td>38183</td>\n",
       "      <td>2.0</td>\n",
       "      <td>2.0</td>\n",
       "      <td>1.0</td>\n",
       "      <td>1.0</td>\n",
       "      <td>1282659060000</td>\n",
       "      <td>想到这家麦当劳就很气。那天中午我实在太热啦，就选择和朋友吃M记凑活一下吧。\\n    点餐时...</td>\n",
       "      <td>0.0</td>\n",
       "    </tr>\n",
       "    <tr>\n",
       "      <th>2284166</th>\n",
       "      <td>54677</td>\n",
       "      <td>124811</td>\n",
       "      <td>4.0</td>\n",
       "      <td>5.0</td>\n",
       "      <td>3.0</td>\n",
       "      <td>3.0</td>\n",
       "      <td>1267014180000</td>\n",
       "      <td>去厦门找朋友玩去吃的\\n咖喱蟹很好吃~~配饭吃很香...\\n我不爱吃饭的人都把饭吃了大半\\n...</td>\n",
       "      <td>1.0</td>\n",
       "    </tr>\n",
       "    <tr>\n",
       "      <th>2673430</th>\n",
       "      <td>102609</td>\n",
       "      <td>148272</td>\n",
       "      <td>4.0</td>\n",
       "      <td>5.0</td>\n",
       "      <td>4.0</td>\n",
       "      <td>4.0</td>\n",
       "      <td>1325601780000</td>\n",
       "      <td>开张以来一直不旺，国营作风，不屑宣传。里面的商品和食肆虽不算高档，但也符合当地消费。今天是元...</td>\n",
       "      <td>1.0</td>\n",
       "    </tr>\n",
       "    <tr>\n",
       "      <th>380122</th>\n",
       "      <td>162876</td>\n",
       "      <td>21003</td>\n",
       "      <td>2.0</td>\n",
       "      <td>2.0</td>\n",
       "      <td>3.0</td>\n",
       "      <td>1.0</td>\n",
       "      <td>1326967440000</td>\n",
       "      <td>很少会给那么低的评价 实在因为避风塘的服务态度不是一般差 跑到那家店服务员素质都是一副欠多还...</td>\n",
       "      <td>0.0</td>\n",
       "    </tr>\n",
       "    <tr>\n",
       "      <th>1539674</th>\n",
       "      <td>12431</td>\n",
       "      <td>85641</td>\n",
       "      <td>3.0</td>\n",
       "      <td>4.0</td>\n",
       "      <td>3.0</td>\n",
       "      <td>3.0</td>\n",
       "      <td>1307024220000</td>\n",
       "      <td>在三号线殷高西路站旁边，店里面的环境很不错的，服务态度也不错。这里的面都和笋有关系，辣肉笋丁...</td>\n",
       "      <td>1.0</td>\n",
       "    </tr>\n",
       "    <tr>\n",
       "      <th>3881214</th>\n",
       "      <td>14926</td>\n",
       "      <td>213041</td>\n",
       "      <td>4.0</td>\n",
       "      <td>3.0</td>\n",
       "      <td>3.0</td>\n",
       "      <td>3.0</td>\n",
       "      <td>1292156880000</td>\n",
       "      <td>做好足浴本来想去whisk尝试一下里面的巧克力制品，结果么有位了，要等很久，未知，那么继续前...</td>\n",
       "      <td>1.0</td>\n",
       "    </tr>\n",
       "    <tr>\n",
       "      <th>3171221</th>\n",
       "      <td>43221</td>\n",
       "      <td>176443</td>\n",
       "      <td>3.0</td>\n",
       "      <td>2.0</td>\n",
       "      <td>2.0</td>\n",
       "      <td>3.0</td>\n",
       "      <td>1285642320000</td>\n",
       "      <td>来上海看世博入住了这家酒店，顺便吃了一下。\\n味道一般般了，可以接受，粤式的烧味比较好吃。\\...</td>\n",
       "      <td>1.0</td>\n",
       "    </tr>\n",
       "    <tr>\n",
       "      <th>3145315</th>\n",
       "      <td>28346</td>\n",
       "      <td>175344</td>\n",
       "      <td>4.0</td>\n",
       "      <td>3.0</td>\n",
       "      <td>4.0</td>\n",
       "      <td>3.0</td>\n",
       "      <td>1307199900000</td>\n",
       "      <td>朋友给我介绍的这家店\\n考虑了很久才过来的，以为自己也不知道想弄一个什么样的发型，\\n不过，...</td>\n",
       "      <td>1.0</td>\n",
       "    </tr>\n",
       "    <tr>\n",
       "      <th>446096</th>\n",
       "      <td>180290</td>\n",
       "      <td>24756</td>\n",
       "      <td>4.0</td>\n",
       "      <td>3.0</td>\n",
       "      <td>4.0</td>\n",
       "      <td>3.0</td>\n",
       "      <td>1280473320000</td>\n",
       "      <td>吃了N久以后才想起来没点评。\\n话说那天晚上夜黑风高雨急，我们仨在黑暗中苦苦探索前方道路，三...</td>\n",
       "      <td>1.0</td>\n",
       "    </tr>\n",
       "  </tbody>\n",
       "</table>\n",
       "</div>"
      ],
      "text/plain": [
       "         userId  restId  rating  rating_env  rating_flavor  rating_service  \\\n",
       "3466290  495271  188351     3.0         2.0            2.0             2.0   \n",
       "744948    17326   38183     2.0         2.0            1.0             1.0   \n",
       "2284166   54677  124811     4.0         5.0            3.0             3.0   \n",
       "2673430  102609  148272     4.0         5.0            4.0             4.0   \n",
       "380122   162876   21003     2.0         2.0            3.0             1.0   \n",
       "1539674   12431   85641     3.0         4.0            3.0             3.0   \n",
       "3881214   14926  213041     4.0         3.0            3.0             3.0   \n",
       "3171221   43221  176443     3.0         2.0            2.0             3.0   \n",
       "3145315   28346  175344     4.0         3.0            4.0             3.0   \n",
       "446096   180290   24756     4.0         3.0            4.0             3.0   \n",
       "\n",
       "             timestamp                                            comment  \\\n",
       "3466290  1315902360000  有次同学聚会去了，还可以吧，就是由于人多了，不点饭的话实在是不能当晚饭来吃，不过那个五花肉确...   \n",
       "744948   1282659060000  想到这家麦当劳就很气。那天中午我实在太热啦，就选择和朋友吃M记凑活一下吧。\\n    点餐时...   \n",
       "2284166  1267014180000  去厦门找朋友玩去吃的\\n咖喱蟹很好吃~~配饭吃很香...\\n我不爱吃饭的人都把饭吃了大半\\n...   \n",
       "2673430  1325601780000  开张以来一直不旺，国营作风，不屑宣传。里面的商品和食肆虽不算高档，但也符合当地消费。今天是元...   \n",
       "380122   1326967440000  很少会给那么低的评价 实在因为避风塘的服务态度不是一般差 跑到那家店服务员素质都是一副欠多还...   \n",
       "1539674  1307024220000  在三号线殷高西路站旁边，店里面的环境很不错的，服务态度也不错。这里的面都和笋有关系，辣肉笋丁...   \n",
       "3881214  1292156880000  做好足浴本来想去whisk尝试一下里面的巧克力制品，结果么有位了，要等很久，未知，那么继续前...   \n",
       "3171221  1285642320000  来上海看世博入住了这家酒店，顺便吃了一下。\\n味道一般般了，可以接受，粤式的烧味比较好吃。\\...   \n",
       "3145315  1307199900000  朋友给我介绍的这家店\\n考虑了很久才过来的，以为自己也不知道想弄一个什么样的发型，\\n不过，...   \n",
       "446096   1280473320000  吃了N久以后才想起来没点评。\\n话说那天晚上夜黑风高雨急，我们仨在黑暗中苦苦探索前方道路，三...   \n",
       "\n",
       "         label  \n",
       "3466290    1.0  \n",
       "744948     0.0  \n",
       "2284166    1.0  \n",
       "2673430    1.0  \n",
       "380122     0.0  \n",
       "1539674    1.0  \n",
       "3881214    1.0  \n",
       "3171221    1.0  \n",
       "3145315    1.0  \n",
       "446096     1.0  "
      ]
     },
     "execution_count": 18,
     "metadata": {},
     "output_type": "execute_result"
    }
   ],
   "source": [
    "new_ratings.sample(10)"
   ]
  },
  {
   "cell_type": "code",
   "execution_count": 19,
   "metadata": {},
   "outputs": [],
   "source": [
    "%matplotlib inline\n",
    "import numpy as np\n",
    "import matplotlib.pyplot as plt\n",
    "import re\n",
    "import jieba\n",
    "from gensim.models import KeyedVectors\n",
    "import warnings\n",
    "warnings.filterwarnings(\"ignore\")\n",
    "import bz2 # 用来解压词向量文件"
   ]
  },
  {
   "cell_type": "markdown",
   "metadata": {},
   "source": [
    "### 加载词向量模型"
   ]
  },
  {
   "cell_type": "code",
   "execution_count": 22,
   "metadata": {},
   "outputs": [],
   "source": [
    "with open(\"../../../Word2Vec/sgns.baidu.word-ngram\", 'wb') as new_file, open(\"../../../Word2Vec/sgns.target.word-ngram.1-2.dynwin5.thr10.neg5.dim300.iter5.bz2\", 'rb') as file:\n",
    "    decompressor = bz2.BZ2Decompressor() # 解压器\n",
    "    for data in iter(lambda : file.read(100 * 1024), b''):\n",
    "        new_file.write(decompressor.decompress(data))"
   ]
  },
  {
   "cell_type": "code",
   "execution_count": 23,
   "metadata": {},
   "outputs": [],
   "source": [
    "w2v_model = KeyedVectors.load_word2vec_format('../../../Word2Vec/sgns.baidu.word-ngram', binary=False, unicode_errors=\"ignore\")"
   ]
  },
  {
   "cell_type": "markdown",
   "metadata": {},
   "source": [
    "### 准备训练和测试集"
   ]
  },
  {
   "cell_type": "code",
   "execution_count": 24,
   "metadata": {},
   "outputs": [],
   "source": [
    "train_texts_orig = new_ratings['comment'].tolist()\n",
    "train_target = new_ratings['label'].tolist()"
   ]
  },
  {
   "cell_type": "code",
   "execution_count": 25,
   "metadata": {},
   "outputs": [
    {
     "data": {
      "text/plain": [
       "['非常喜欢这个德国超市，他家各类东东都品牌齐全，不像沃尔玛、家乐福之类只有便宜货。经常能找到一些讨人喜欢的东东，比如梅子醋、XO酱、超有料的炖汤佐料，当然还有偶最爱的各式冷冻海鲜和Icecream，大爱。PS。停车也超方便，偶去四方坪常蹭他家免费停车位，非常谢谢啦，呵呵。\\n',\n",
       " '从这家超市刚在湖南开的时候就开始消费，眼看着这里周边由荒凉变得热闹。人生真是好短。\\n奇怪的是这里既然说是全世界有很多连锁店的超市，我在美国纽约州读书的同学居然说一直没有见过美国有这个超市，而且METRO是地铁的意思，晕。\\n商品齐全，有不少杭州特产，楼外楼的东坡肉之类都有卖。对了，还有哈根达斯，在冰柜里，一样很贵很贵。\\n买单的时候要刷会员卡的。\\n他们家不对家庭和个人开放，会员是要凭营业执照去登记的。因此确实这样会把很多人拒之门外。\\n有不少海鲜，价钱好贵。推荐水果、进口食品、现做面包等，质素都很不错，品种也齐全\\n时令鲜果也有，比方五月的樱桃，比外面水果店便宜和新鲜很多，要周末的早晨去买，很快就被抢空了\\n',\n",
       " '麦德隆多是大包装的东西。适合三代同堂的家庭采购。\\n这里有卡才能进入，结帐时，同样要出示会员卡。\\n其实离我家还蛮远的。但有时也会开车到这里来采购。\\n不过，有次在这里买了酱牛肉，密封包装的。回到家里，打开包装，吓死了，牛肉都绿了。再仔细看了看保质日期，没错呀，是在保质期内的。只好又开车去麦德隆退货。损失了路费。就连麦德隆的售后服务人员，看了包装袋里的酱牛肉，都不禁皱起了眉头\\n']"
      ]
     },
     "execution_count": 25,
     "metadata": {},
     "output_type": "execute_result"
    }
   ],
   "source": [
    "train_texts_orig[:3]"
   ]
  },
  {
   "cell_type": "code",
   "execution_count": 27,
   "metadata": {},
   "outputs": [
    {
     "data": {
      "text/plain": [
       "[1.0, 1.0, 1.0]"
      ]
     },
     "execution_count": 27,
     "metadata": {},
     "output_type": "execute_result"
    }
   ],
   "source": [
    "train_target[:3]"
   ]
  },
  {
   "cell_type": "markdown",
   "metadata": {},
   "source": [
    "### 分词"
   ]
  },
  {
   "cell_type": "code",
   "execution_count": 46,
   "metadata": {},
   "outputs": [],
   "source": [
    "train_tokens_list = []\n",
    "for text in train_texts_orig:\n",
    "    \n",
    "    text = re.sub(r'[^\\u4e00-\\u9fa5]+', '', text)\n",
    "    # text = re.sub(\"[\\s+\\.\\!\\/_,$%^*(+\\\"\\']+|[+——！，。？、~@#￥%……&*（）]+\", \"\",text)\n",
    "\n",
    "    jieba_words = jieba.lcut(text)\n",
    "            \n",
    "    for i, word in enumerate(jieba_words):\n",
    "        try:\n",
    "            # 将词转换为索引index\n",
    "            jieba_words[i] = w2v_model.vocab[word].index\n",
    "        except KeyError:\n",
    "            # 如果词不在字典中，则输出0\n",
    "            jieba_words[i] = 0\n",
    "    train_tokens_list.append(jieba_words)"
   ]
  },
  {
   "cell_type": "code",
   "execution_count": 64,
   "metadata": {},
   "outputs": [
    {
     "name": "stdout",
     "output_type": "stream",
     "text": [
      "[ 62 157  99 ...  44  45  33]\n",
      "num_tokens的平均长度： 77.7737437684115\n",
      "num_tokens的最大长度： 1442\n"
     ]
    }
   ],
   "source": [
    "num_tokens = [len(tokens) for tokens in train_tokens_list]\n",
    "num_tokens = np.array(num_tokens)\n",
    "print(num_tokens)\n",
    "print(\"num_tokens的平均长度：\", np.mean(num_tokens))  # 平均长度\n",
    "print(\"num_tokens的最大长度：\", np.max(num_tokens))  # 最大长度"
   ]
  },
  {
   "cell_type": "code",
   "execution_count": 67,
   "metadata": {},
   "outputs": [
    {
     "name": "stderr",
     "output_type": "stream",
     "text": [
      "IOPub data rate exceeded.\n",
      "The notebook server will temporarily stop sending output\n",
      "to the client in order to avoid crashing it.\n",
      "To change this limit, set the config variable\n",
      "`--NotebookApp.iopub_data_rate_limit`.\n",
      "\n",
      "Current values:\n",
      "NotebookApp.iopub_data_rate_limit=1000000.0 (bytes/sec)\n",
      "NotebookApp.rate_limit_window=3.0 (secs)\n",
      "\n"
     ]
    },
    {
     "data": {
      "image/png": "[encoded data removed]",
      "text/plain": [
       "<Figure size 432x288 with 1 Axes>"
      ]
     },
     "metadata": {
      "needs_background": "light"
     },
     "output_type": "display_data"
    }
   ],
   "source": [
    "num_tokens_plt = [num if num !=0 else 1 for num in num_tokens]\n",
    "print(num_tokens_plt)\n",
    "\n",
    "plt.hist(np.log(num_tokens_plt), bins = 100)\n",
    "plt.xlim((0,10))\n",
    "plt.ylabel('number of tokens')\n",
    "plt.xlabel('length of tokens')\n",
    "plt.title('Distribution of tokens length')\n",
    "plt.show()"
   ]
  },
  {
   "cell_type": "code",
   "execution_count": 49,
   "metadata": {},
   "outputs": [
    {
     "data": {
      "text/plain": [
       "232"
      ]
     },
     "execution_count": 49,
     "metadata": {},
     "output_type": "execute_result"
    }
   ],
   "source": [
    "# 取tokens平均值并加上两个tokens的标准差，\n",
    "# 假设tokens长度的分布为正态分布，则max_tokens这个值可以涵盖95%左右的样本\n",
    "max_tokens = np.mean(num_tokens) + 2 * np.std(num_tokens)\n",
    "max_tokens = int(max_tokens)\n",
    "max_tokens"
   ]
  },
  {
   "cell_type": "code",
   "execution_count": 50,
   "metadata": {},
   "outputs": [
    {
     "data": {
      "text/plain": [
       "0.9590444500101375"
      ]
     },
     "execution_count": 50,
     "metadata": {},
     "output_type": "execute_result"
    }
   ],
   "source": [
    "# 取tokens的长度为236时，大约95%的样本被涵盖\n",
    "# 我们对长度不足的进行padding，超长的进行修剪\n",
    "np.sum( num_tokens < max_tokens ) / len(num_tokens)"
   ]
  },
  {
   "cell_type": "markdown",
   "metadata": {},
   "source": [
    "**反向tokenize**  \n",
    "我们定义一个function，用来把索引转换成可阅读的文本，这对于debug很重要。"
   ]
  },
  {
   "cell_type": "code",
   "execution_count": 51,
   "metadata": {},
   "outputs": [],
   "source": [
    "# 用来将tokens转换为文本\n",
    "def reverse_tokens(tokens):\n",
    "    text = ''\n",
    "    for i in tokens:\n",
    "        if i != 0:\n",
    "            text = text + cn_model.index2word[i]\n",
    "        else:\n",
    "            text = text + ' '\n",
    "    return text"
   ]
  },
  {
   "cell_type": "code",
   "execution_count": 52,
   "metadata": {},
   "outputs": [
    {
     "data": {
      "text/plain": [
       "'非常喜欢这个德国超市他家各类东东都品牌齐全 沃尔玛家乐福之类只有便宜货经常能找到一些讨人喜欢的东东比如梅子醋XO 有料的炖汤佐料当然还有偶最爱的各式冷冻海鲜和 大爱PS停车也超方便 四方坪常蹭他家免费停车位非常谢谢啦呵呵'"
      ]
     },
     "execution_count": 52,
     "metadata": {},
     "output_type": "execute_result"
    }
   ],
   "source": [
    "reverse = reverse_tokens(train_tokens_list[0])\n",
    "reverse"
   ]
  },
  {
   "cell_type": "code",
   "execution_count": 53,
   "metadata": {},
   "outputs": [
    {
     "data": {
      "text/plain": [
       "'非常喜欢这个德国超市，他家各类东东都品牌齐全，不像沃尔玛、家乐福之类只有便宜货。经常能找到一些讨人喜欢的东东，比如梅子醋、XO酱、超有料的炖汤佐料，当然还有偶最爱的各式冷冻海鲜和Icecream，大爱。PS。停车也超方便，偶去四方坪常蹭他家免费停车位，非常谢谢啦，呵呵。\\n'"
      ]
     },
     "execution_count": 53,
     "metadata": {},
     "output_type": "execute_result"
    }
   ],
   "source": [
    "train_texts_orig[0] # 原始文本"
   ]
  },
  {
   "cell_type": "code",
   "execution_count": 70,
   "metadata": {},
   "outputs": [
    {
     "data": {
      "text/plain": [
       "(50000, 300)"
      ]
     },
     "execution_count": 70,
     "metadata": {},
     "output_type": "execute_result"
    }
   ],
   "source": [
    "embedding_dim = 300\n",
    "\n",
    "num_words = 50000 # 只使用前50000个词\n",
    "\n",
    "# 初始化 embedding_matrix，之后在keras上进行应用\n",
    "embedding_matrix = np.zeros((num_words, embedding_dim))\n",
    "\n",
    "# embedding_matrix为一个 [num_words，embedding_dim] 的矩阵，维度为 50000 * 300\n",
    "for i in range(num_words):\n",
    "    embedding_matrix[i,:] = cn_model[cn_model.index2word[i]]\n",
    "embedding_matrix = embedding_matrix.astype('float32')\n",
    "\n",
    "# embedding_matrix的维度，这个维度为keras的要求，后续会在模型中用到\n",
    "embedding_matrix.shape"
   ]
  },
  {
   "cell_type": "code",
   "execution_count": 71,
   "metadata": {},
   "outputs": [],
   "source": [
    "from tensorflow.keras.models import Sequential\n",
    "from tensorflow.keras.layers import Dense, GRU, Embedding, LSTM, Bidirectional\n",
    "from tensorflow.keras.preprocessing.text import Tokenizer\n",
    "from tensorflow.keras.preprocessing.sequence import pad_sequences\n",
    "from tensorflow.keras.optimizers import RMSprop\n",
    "from tensorflow.keras.optimizers import Adam\n",
    "from tensorflow.keras.callbacks import EarlyStopping, ModelCheckpoint, TensorBoard, ReduceLROnPlateau"
   ]
  },
  {
   "cell_type": "markdown",
   "metadata": {},
   "source": [
    "### padding（填充）和truncating（修剪）\n",
    "我们把文本转换为tokens（索引）之后，每一串索引的长度并不相等，所以为了方便模型的训练我们需要把索引的长度标准化，上面我们选择了223这个可以涵盖95%训练样本的长度，接下来我们进行padding和truncating，我们一般采用'pre'的方法，这会在文本索引的前面填充0，因为根据一些研究资料中的实践，如果在文本索引后面填充0的话，会对模型造成一些不良影响"
   ]
  },
  {
   "cell_type": "code",
   "execution_count": 73,
   "metadata": {},
   "outputs": [],
   "source": [
    "# 进行padding和truncating， 输入的train_tokens是一个list\n",
    "# 返回的train_pad是一个numpy array\n",
    "train_pad = pad_sequences(train_tokens_list, maxlen=max_tokens, padding='pre', truncating='pre')"
   ]
  },
  {
   "cell_type": "code",
   "execution_count": 74,
   "metadata": {},
   "outputs": [
    {
     "data": {
      "text/plain": [
       "array([    0,     0,     0,     0,     0,     0,     0,     0,     0,\n",
       "           0,     0,     0,     0,     0,     0,     0,     0,     0,\n",
       "           0,     0,     0,     0,     0,     0,     0,     0,     0,\n",
       "           0,     0,     0,     0,     0,     0,     0,     0,     0,\n",
       "           0,     0,     0,     0,     0,     0,     0,     0,     0,\n",
       "           0,     0,     0,     0,     0,     0,     0,     0,     0,\n",
       "           0,     0,     0,     0,     0,     0,     0,     0,     0,\n",
       "           0,     0,     0,     0,     0,     0,     0,     0,     0,\n",
       "           0,     0,     0,     0,     0,     0,     0,     0,     0,\n",
       "           0,     0,     0,     0,     0,     0,     0,     0,     0,\n",
       "           0,     0,     0,     0,     0,     0,     0,     0,     0,\n",
       "           0,     0,     0,     0,     0,     0,     0,     0,     0,\n",
       "           0,     0,     0,     0,     0,     0,     0,     0,     0,\n",
       "           0,     0,     0,     0,     0,     0,     0,     0,     0,\n",
       "           0,     0,     0,     0,     0,     0,     0,     0,     0,\n",
       "           0,     0,     0,     0,     0,     0,     0,     0,     0,\n",
       "           0,     0,     0,     0,     0,     0,     0,     0,     0,\n",
       "           0,     0,     0,     0,     0,     0,     0,     0,     0,\n",
       "           0,     0,     0,     0,     0,     0,     0,     0,     0,\n",
       "           0,     0,     0,     0,     0,     0,     0,     0,     0,\n",
       "           0,     0,     0,     0,     0,     0,     0,     0,     0,\n",
       "           0,     0, 37074,   242,     1,  1240,     0,     8,     5,\n",
       "        2276,     1,  1169,   189,  4177,     1,  1356,  2726,   734,\n",
       "         412,   189,  1587,     1,   167,  1878,     7,  2694,   792,\n",
       "         240,    74, 49669,    61,    46,  2628,     1,  5317,     1,\n",
       "        1356,   412,   580,   235,  1283,   350,   235])"
      ]
     },
     "execution_count": 74,
     "metadata": {},
     "output_type": "execute_result"
    }
   ],
   "source": [
    "# 超出五万个词向量的词用0代替\n",
    "train_pad[train_pad>=num_words] = 0\n",
    "\n",
    "# 可见padding之后前面的tokens全变成0，文本在最后面\n",
    "train_pad[310]"
   ]
  },
  {
   "cell_type": "code",
   "execution_count": 75,
   "metadata": {},
   "outputs": [],
   "source": [
    "# 准备target向量，前2000样本为1，后2000为0\n",
    "train_target = np.array(train_target)"
   ]
  },
  {
   "cell_type": "code",
   "execution_count": 76,
   "metadata": {},
   "outputs": [],
   "source": [
    "# 进行训练和测试样本的分割\n",
    "from sklearn.model_selection import train_test_split"
   ]
  },
  {
   "cell_type": "code",
   "execution_count": 77,
   "metadata": {},
   "outputs": [],
   "source": [
    "# 90%的样本用来训练，剩余10%用来测试\n",
    "X_train, X_test, y_train, y_test = train_test_split(train_pad,\n",
    "                                                    train_target,\n",
    "                                                    test_size=0.1,\n",
    "                                                    random_state=12)"
   ]
  },
  {
   "cell_type": "code",
   "execution_count": 78,
   "metadata": {},
   "outputs": [
    {
     "name": "stdout",
     "output_type": "stream",
     "text": [
      "[    0     0     0     0     0     0     0     0     0     0     0     0\n",
      "     0     0     0     0     0     0     0     0     0     0     0     0\n",
      "     0     0     0     0     0     0     0     0     0     0     0     0\n",
      "     0     0     0     0     0     0     0     0     0     0     0     0\n",
      "     0     0     0     0     0     0     0     0     0     0     0     0\n",
      "     0     0     0     0     0     0     0     0     0     0     0     0\n",
      "     0     0     0     0     0     0     0     0     0     0     0     0\n",
      "     0     0     0     0     0     0     0     0     0     0     0     0\n",
      "     0     0     0     0     0     0  7698  5202   563     1  5498     0\n",
      " 35815  1167     7   365   145     0  6848     0     1 22433   696 24540\n",
      " 22552   684   500 43881     0   264 47740  1225  6307   189  7963   427\n",
      "   138   115  1199 13878   120   189    19     0    98     0  2986    98\n",
      "   109     0     1   449 13878    59 13309     8  6084   189  8568   142\n",
      "    25   766  3759  1121     7     0    98  1154 24701  3556   120     0\n",
      "  4968  8899  2539     8   106     0    44     7    44  3556     8 16046\n",
      "   427   161     8    64  2694   333     7     0     0     1   412   281\n",
      "     0   234  1154 29292   294     0   664   112     1   644   115 16517\n",
      "    46 30636     8   565    46   103 12904  2588     8 17259     7     0\n",
      " 33539    61     7   918     0     1  2747    32 35815     1  3859   412\n",
      "    66 21873   115     0]\n",
      "                                                                                                      南山海岸城的百度 烤肉首先是地方小 抽 的烟囱只是摆设舍不得开比较呛 不能刷卡只能现金很麻烦最后就是没有真发票他们很有 你 不用你说 的时候发票就送来了看起来很正规让人无法怀疑其实是 你找服务员换他们 估计早就习惯了能 一个是一个换了半天最后给了我真的但是是  的还是分 再找店员理论 它们章的结果没有哎不折腾了以后不来这家店了幸好是 食材都是统一 的纸上烤肉的味道还是可以总算没有 \n",
      "class:  0.0\n"
     ]
    }
   ],
   "source": [
    "# 查看训练样本，确认无误\n",
    "print(X_train[350])\n",
    "print(reverse_tokens(X_train[350]))\n",
    "print('class: ', y_train[350])"
   ]
  },
  {
   "cell_type": "markdown",
   "metadata": {},
   "source": [
    "### 用LSTM对样本进行分类"
   ]
  },
  {
   "cell_type": "code",
   "execution_count": 80,
   "metadata": {},
   "outputs": [
    {
     "name": "stdout",
     "output_type": "stream",
     "text": [
      "Model: \"sequential\"\n",
      "_________________________________________________________________\n",
      "Layer (type)                 Output Shape              Param #   \n",
      "=================================================================\n",
      "embedding (Embedding)        (None, 232, 300)          15000000  \n",
      "_________________________________________________________________\n",
      "bidirectional (Bidirectional (None, 232, 128)          186880    \n",
      "_________________________________________________________________\n",
      "lstm_1 (LSTM)                (None, 16)                9280      \n",
      "_________________________________________________________________\n",
      "dense (Dense)                (None, 1)                 17        \n",
      "=================================================================\n",
      "Total params: 15,196,177\n",
      "Trainable params: 196,177\n",
      "Non-trainable params: 15,000,000\n",
      "_________________________________________________________________\n"
     ]
    }
   ],
   "source": [
    "# 模型第一层为embedding\n",
    "model = Sequential()\n",
    "model.add(Embedding(num_words,embedding_dim,\n",
    "                    weights=[embedding_matrix],\n",
    "                    input_length=max_tokens,\n",
    "                    trainable=False))\n",
    "model.add(Bidirectional(LSTM(units=64, return_sequences=True)))\n",
    "model.add(LSTM(units=16, return_sequences=False))\n",
    "model.add(Dense(1, activation='sigmoid'))\n",
    "optimizer = Adam(lr=1e-3)\n",
    "model.compile(loss='binary_crossentropy', optimizer=optimizer, metrics=['accuracy'])\n",
    "model.summary()"
   ]
  },
  {
   "cell_type": "code",
   "execution_count": 81,
   "metadata": {},
   "outputs": [
    {
     "name": "stdout",
     "output_type": "stream",
     "text": [
      "Unsuccessful TensorSliceReader constructor: Failed to find any matching files for sentiment_checkpoint.LSTM\n"
     ]
    }
   ],
   "source": [
    "# 建立一个权重的存储点\n",
    "path_checkpoint = 'sentiment_checkpoint.LSTM'\n",
    "\n",
    "checkpoint = ModelCheckpoint(filepath=path_checkpoint, monitor='val_loss',\n",
    "                                      verbose=1, save_weights_only=True,\n",
    "                                      save_best_only=True)\n",
    "# 尝试加载已训练模型\n",
    "try:\n",
    "    model.load_weights(path_checkpoint)\n",
    "except Exception as e:\n",
    "    print(e)"
   ]
  },
  {
   "cell_type": "code",
   "execution_count": 82,
   "metadata": {},
   "outputs": [],
   "source": [
    "# 定义early stoping, 如果3个epoch内 validation loss 没有改善则停止训练\n",
    "earlystopping = EarlyStopping(monitor='val_loss', patience=3, verbose=1)\n",
    "# 自动降低learning rate\n",
    "lr_reduction = ReduceLROnPlateau(monitor='val_loss', factor=0.1, min_lr=1e-8, patience=0, verbose=1)\n",
    "# 定义callback函数\n",
    "callbacks = [\n",
    "    earlystopping, \n",
    "    checkpoint,\n",
    "    lr_reduction\n",
    "]"
   ]
  },
  {
   "cell_type": "code",
   "execution_count": 84,
   "metadata": {},
   "outputs": [
    {
     "name": "stdout",
     "output_type": "stream",
     "text": [
      "Train on 2173313 samples, validate on 241480 samples\n",
      "Epoch 1/5\n",
      "2173312/2173313 [============================>.] - ETA: 0s - loss: 0.1206 - accuracy: 0.9535\n",
      "Epoch 00001: val_loss improved from 0.12309 to 0.12029, saving model to sentiment_checkpoint.LSTM\n",
      "2173313/2173313 [==============================] - 66904s 31ms/sample - loss: 0.1206 - accuracy: 0.9535 - val_loss: 0.1203 - val_accuracy: 0.9540\n",
      "Epoch 2/5\n",
      "2173312/2173313 [============================>.] - ETA: 0s - loss: 0.1163 - accuracy: 0.9551\n",
      "Epoch 00002: val_loss improved from 0.12029 to 0.11993, saving model to sentiment_checkpoint.LSTM\n",
      "2173313/2173313 [==============================] - 68210s 31ms/sample - loss: 0.1163 - accuracy: 0.9551 - val_loss: 0.1199 - val_accuracy: 0.9540\n",
      "Epoch 3/5\n",
      "2173312/2173313 [============================>.] - ETA: 0s - loss: 0.1126 - accuracy: 0.9563\n",
      "Epoch 00003: val_loss did not improve from 0.11993\n",
      "\n",
      "Epoch 00003: ReduceLROnPlateau reducing learning rate to 0.00010000000474974513.\n",
      "2173313/2173313 [==============================] - 67603s 31ms/sample - loss: 0.1126 - accuracy: 0.9563 - val_loss: 0.1210 - val_accuracy: 0.9536\n",
      "Epoch 4/5\n",
      "2173312/2173313 [============================>.] - ETA: 0s - loss: 0.1044 - accuracy: 0.9594\n",
      "Epoch 00004: val_loss did not improve from 0.11993\n",
      "\n",
      "Epoch 00004: ReduceLROnPlateau reducing learning rate to 1.0000000474974514e-05.\n",
      "2173313/2173313 [==============================] - 67746s 31ms/sample - loss: 0.1044 - accuracy: 0.9594 - val_loss: 0.1206 - val_accuracy: 0.9541\n",
      "Epoch 5/5\n",
      "2173312/2173313 [============================>.] - ETA: 0s - loss: 0.1015 - accuracy: 0.9606\n",
      "Epoch 00005: val_loss did not improve from 0.11993\n",
      "\n",
      "Epoch 00005: ReduceLROnPlateau reducing learning rate to 1.0000000656873453e-06.\n",
      "2173313/2173313 [==============================] - 69597s 32ms/sample - loss: 0.1015 - accuracy: 0.9606 - val_loss: 0.1215 - val_accuracy: 0.9540\n"
     ]
    },
    {
     "data": {
      "text/plain": [
       "<tensorflow.python.keras.callbacks.History at 0x29539f72e48>"
      ]
     },
     "execution_count": 84,
     "metadata": {},
     "output_type": "execute_result"
    }
   ],
   "source": [
    "# 开始训练\n",
    "model.fit(X_train, y_train,\n",
    "          validation_split=0.1, \n",
    "          epochs=5,\n",
    "          batch_size=128,\n",
    "          callbacks=callbacks)"
   ]
  },
  {
   "cell_type": "code",
   "execution_count": null,
   "metadata": {},
   "outputs": [],
   "source": []
  }
 ],
 "metadata": {
  "kernelspec": {
   "display_name": "Python 3",
   "language": "python",
   "name": "python3"
  },
  "language_info": {
   "codemirror_mode": {
    "name": "ipython",
    "version": 3
   },
   "file_extension": ".py",
   "mimetype": "text/x-python",
   "name": "python",
   "nbconvert_exporter": "python",
   "pygments_lexer": "ipython3",
   "version": "3.7.1"
  }
 },
 "nbformat": 4,
 "nbformat_minor": 2
}
